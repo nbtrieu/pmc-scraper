{
 "cells": [
  {
   "cell_type": "code",
   "execution_count": 10,
   "metadata": {},
   "outputs": [],
   "source": [
    "import requests\n",
    "import xml.etree.ElementTree as ET\n",
    "import json\n"
   ]
  },
  {
   "cell_type": "code",
   "execution_count": 11,
   "metadata": {},
   "outputs": [],
   "source": [
    "# Function to load the API key from config.json\n",
    "def load_api_key(filepath):\n",
    "    with open(filepath, 'r') as file:\n",
    "        config = json.load(file)\n",
    "        return config['ncbi_api_key']\n",
    "\n",
    "# Function to search PMC for articles matching keyword of interest\n",
    "def search_pmc(keyword, api_key):\n",
    "    base_url = \"https://eutils.ncbi.nlm.nih.gov/entrez/eutils/esearch.fcgi\"\n",
    "    params = {\n",
    "        'db': 'pmc',\n",
    "        'term': f'{keyword}[Title/Abstract]',\n",
    "        'retmax': 100,\n",
    "        'usehistory': 'y',\n",
    "        'api_key': api_key\n",
    "    }\n",
    "    response = requests.get(base_url, params=params)\n",
    "    if response.status_code == 200:\n",
    "        return response.text\n",
    "    else:\n",
    "        return None\n",
    "\n",
    "# Function to fetch full texts from PMC based on a list of PMC IDs\n",
    "def fetch_pmc(ids, api_key):\n",
    "    base_url = \"https://eutils.ncbi.nlm.nih.gov/entrez/eutils/efetch.fcgi\"\n",
    "    params = {\n",
    "        'db': 'pmc',\n",
    "        'retmode': 'xml',\n",
    "        'id': ','.join(ids),\n",
    "        'api_key': api_key\n",
    "    }\n",
    "    response = requests.get(base_url, params=params)\n",
    "    if response.status_code == 200:\n",
    "        return response.text\n",
    "    else:\n",
    "        return None\n",
    "\n",
    "# Function to parse results:\n",
    "def process_search_results(search_result, api_key):\n",
    "    \"\"\"Process the search result from the PMC database,\n",
    "    extract PMC IDs and fetch the full texts if available.\"\"\"\n",
    "    if search_result:\n",
    "        # Parse XML to find PMC IDs\n",
    "        root = ET.fromstring(search_result)\n",
    "        ids = [id_elem.text for id_elem in root.findall('.//IdList/Id')]\n",
    "        if ids:\n",
    "            print(\"Found PMC IDs:\", ids)\n",
    "            \n",
    "            # Fetch articles based on PMC IDs\n",
    "            full_texts = fetch_pmc(ids, api_key)\n",
    "            if full_texts:\n",
    "                print(\"Fetched full texts.\")\n",
    "                # We can save or process these texts further here.\n",
    "                return full_texts  # Optionally return the full texts for further processing\n",
    "        else:\n",
    "            print(\"No PMC IDs found for the keyword.\")\n",
    "    else:\n",
    "        print(\"Failed to retrieve search results.\")\n",
    "\n",
    "def save_texts_as_xml(full_texts, filename):\n",
    "    # Assuming `full_texts` is a string of XML data\n",
    "    with open(filename, 'w') as file:\n",
    "        file.write(full_texts)\n"
   ]
  },
  {
   "cell_type": "code",
   "execution_count": 12,
   "metadata": {},
   "outputs": [
    {
     "name": "stdout",
     "output_type": "stream",
     "text": [
      "Found PMC IDs: ['11175920', '11138516', '11135680', '11124265', '11104603', '11093558', '11092157', '11078754', '11055025', '11048446', '11022481', '10983863', '10971161', '10941783', '10931361', '10906646', '10890296', '10871466', '10870236', '10867075', '10848413', '10834361', '11171991', '11171117', '10842566', '11141846', '11108270', '11079010', '11016705', '11015456', '11006983', '11001031', '10984659', '10984464', '10955336', '10951009', '10914053', '10908179', '10880437', '10845330', '10826217', '10807591', '10770950', '10765985', '10758630', '10740754', '10735146', '10724692', '10714047', '10815114', '10811109', '10792189', '10778112', '10777859', '10748409', '10743540', '10731269', '10700460', '10696055', '10687144', '10681543', '10680258', '10671584', '10658950', '10638841', '10626058', '10623306', '10619654', '10605658', '10605119', '10597888', '10571785', '10556695', '10554801', '10460481', '10459500', '10435716', '10431239', '10429879', '10429216', '10428943', '10400411', '10388255', '10387831', '10378045', '10335793', '10679343', '10679238', '10676901', '10665890', '10653745', '10653044', '10651772', '10626775', '10622323', '10312089', '10289064', '10228078', '10221606', '10219402']\n",
      "Fetched full texts.\n"
     ]
    }
   ],
   "source": [
    "# Testing:\n",
    "api_key = load_api_key('config.json')\n",
    "keyword = \"NGS\"\n",
    "\n",
    "search_result = search_pmc(keyword, api_key)\n",
    "full_texts = process_search_results(search_result, api_key)\n",
    "save_texts_as_xml(full_texts, 'full_texts.xml')\n"
   ]
  }
 ],
 "metadata": {
  "kernelspec": {
   "display_name": "Python 3",
   "language": "python",
   "name": "python3"
  },
  "language_info": {
   "codemirror_mode": {
    "name": "ipython",
    "version": 3
   },
   "file_extension": ".py",
   "mimetype": "text/x-python",
   "name": "python",
   "nbconvert_exporter": "python",
   "pygments_lexer": "ipython3",
   "version": "3.12.2"
  }
 },
 "nbformat": 4,
 "nbformat_minor": 2
}
